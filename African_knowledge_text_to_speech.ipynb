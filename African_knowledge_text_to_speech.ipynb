{
  "nbformat": 4,
  "nbformat_minor": 0,
  "metadata": {
    "colab": {
      "provenance": [],
      "authorship_tag": "ABX9TyMj/S4dCE7rqco6ALgVULn6",
      "include_colab_link": true
    },
    "kernelspec": {
      "name": "python3",
      "display_name": "Python 3"
    },
    "language_info": {
      "name": "python"
    }
  },
  "cells": [
    {
      "cell_type": "markdown",
      "metadata": {
        "id": "view-in-github",
        "colab_type": "text"
      },
      "source": [
        "<a href=\"https://colab.research.google.com/github/keeprich/African_knowledge_text_to_speech/blob/main/African_knowledge_text_to_speech.ipynb\" target=\"_parent\"><img src=\"https://colab.research.google.com/assets/colab-badge.svg\" alt=\"Open In Colab\"/></a>"
      ]
    },
    {
      "cell_type": "code",
      "execution_count": null,
      "metadata": {
        "id": "JO8yahJy-7tZ"
      },
      "outputs": [],
      "source": [
        "!pip install gtts pydub\n",
        "\n",
        "from gtts import gTTS\n",
        "from pydub import AudioSegment\n",
        "from google.colab import files\n",
        "import os\n",
        "\n",
        "def text_to_speech(text, lang='en'):\n",
        "    tts = gTTS(text=text, lang=lang, slow=False)\n",
        "    tts.save(\"output.mp3\")\n",
        "    sound = AudioSegment.from_mp3(\"output.mp3\")\n",
        "    output_path = \"Rising_from_the_ashes.wav\"\n",
        "    sound.export(output_path, format=\"wav\")\n",
        "    return output_path\n",
        "\n",
        "text = '''\n",
        "\n",
        "\n",
        "\n",
        "\n",
        "\n",
        "\n",
        "\n",
        "\n",
        "\n",
        "\n",
        "\n",
        "\n",
        "\n",
        "\n",
        "\n",
        "'''\n",
        "\n",
        "\n",
        "\n",
        "\n",
        "output_file = text_to_speech(text)\n",
        "files.download(output_file)\n"
      ]
    }
  ]
}